{
  "nbformat": 4,
  "nbformat_minor": 0,
  "metadata": {
    "colab": {
      "provenance": [],
      "toc_visible": true,
      "authorship_tag": "ABX9TyN2Sgr21PCEihtBoeylPJD+",
      "include_colab_link": true
    },
    "kernelspec": {
      "name": "python3",
      "display_name": "Python 3"
    },
    "language_info": {
      "name": "python"
    }
  },
  "cells": [
    {
      "cell_type": "markdown",
      "metadata": {
        "id": "view-in-github",
        "colab_type": "text"
      },
      "source": [
        "<a href=\"https://colab.research.google.com/github/Praveena-TP-13/ML-assignment-2/blob/main/Compare_datasets.ipynb\" target=\"_parent\"><img src=\"https://colab.research.google.com/assets/colab-badge.svg\" alt=\"Open In Colab\"/></a>"
      ]
    },
    {
      "cell_type": "markdown",
      "source": [
        "**Comapre Datasets**"
      ],
      "metadata": {
        "id": "0Vc9tIeKnNje"
      }
    },
    {
      "cell_type": "code",
      "source": [
        "# Import libraries\n",
        "import pandas as pd"
      ],
      "metadata": {
        "id": "1VTjGJSan4Na"
      },
      "execution_count": 6,
      "outputs": []
    },
    {
      "cell_type": "code",
      "source": [
        "# Mount Google Drive\n",
        "from google.colab import drive\n",
        "drive.mount('/content/drive/')"
      ],
      "metadata": {
        "colab": {
          "base_uri": "https://localhost:8080/",
          "height": 0
        },
        "id": "mT5f8_uSEm_c",
        "outputId": "d8cae5ca-6e4d-4d84-a5f5-95ee0438694a"
      },
      "execution_count": 9,
      "outputs": [
        {
          "output_type": "stream",
          "name": "stdout",
          "text": [
            "Mounted at /content/drive/\n"
          ]
        }
      ]
    },
    {
      "cell_type": "code",
      "execution_count": 49,
      "metadata": {
        "id": "q5TkAgvQnKjn"
      },
      "outputs": [],
      "source": [
        "# Load the Datasets\n",
        "# Read the content in the .csv file\n",
        "\n",
        "# Define the data file paths\n",
        "file_path_1 = '/content/drive/My Drive/ml_ass2_datasets/dataset1.csv'\n",
        "file_path_2 = '/content/drive/My Drive/ml_ass2_datasets/dataset2.csv'\n",
        "file_path_3 = '/content/drive/My Drive/ml_ass2_datasets/dataset3.csv'\n",
        "\n",
        "\n",
        "\n",
        "# Read .csv files using pandas\n",
        "df1 = pd.read_csv(file_path_1)\n",
        "df2 = pd.read_csv(file_path_2)\n",
        "df3 = pd.read_csv(file_path_3)\n"
      ]
    },
    {
      "cell_type": "markdown",
      "source": [],
      "metadata": {
        "id": "mK4fFUUSnL9J"
      }
    },
    {
      "cell_type": "code",
      "source": [
        "# Check missing values in datasets\n",
        "for i, dataset in enumerate([df1, df2, df3], start=1):\n",
        "    missing_values = dataset.isnull().sum()\n",
        "    print(f\"\\nDataset {i} - Missing Values:\\n{missing_values[missing_values > 0]}\")\n"
      ],
      "metadata": {
        "colab": {
          "base_uri": "https://localhost:8080/",
          "height": 0
        },
        "id": "BWjSRiFfFC6j",
        "outputId": "8a52f846-f72c-409b-9d44-e27534904862"
      },
      "execution_count": 50,
      "outputs": [
        {
          "output_type": "stream",
          "name": "stdout",
          "text": [
            "\n",
            "Dataset 1 - Missing Values:\n",
            "Series([], dtype: int64)\n",
            "\n",
            "Dataset 2 - Missing Values:\n",
            "Series([], dtype: int64)\n",
            "\n",
            "Dataset 3 - Missing Values:\n",
            "Gender              13\n",
            "Married              3\n",
            "Dependents          15\n",
            "Self_Employed       32\n",
            "LoanAmount          22\n",
            "Loan_Amount_Term    14\n",
            "Credit_History      50\n",
            "dtype: int64\n"
          ]
        }
      ]
    },
    {
      "cell_type": "code",
      "source": [
        "# Missing values as percentages in datasets\n",
        "for i, dataset in enumerate([df1, df2, df3], start=1):\n",
        "    missing_values_percent = (dataset.isnull().sum() / len(dataset)) * 100\n",
        "    print(f\"\\nDataset {i} - Missing Values (%):\\n{missing_values_percent[missing_values_percent > 0]}\")"
      ],
      "metadata": {
        "colab": {
          "base_uri": "https://localhost:8080/",
          "height": 0
        },
        "id": "1K4dr7G8GSXI",
        "outputId": "015ebd3b-5bb4-464e-e186-0006527c7175"
      },
      "execution_count": 51,
      "outputs": [
        {
          "output_type": "stream",
          "name": "stdout",
          "text": [
            "\n",
            "Dataset 1 - Missing Values (%):\n",
            "Series([], dtype: float64)\n",
            "\n",
            "Dataset 2 - Missing Values (%):\n",
            "Series([], dtype: float64)\n",
            "\n",
            "Dataset 3 - Missing Values (%):\n",
            "Gender              2.117264\n",
            "Married             0.488599\n",
            "Dependents          2.442997\n",
            "Self_Employed       5.211726\n",
            "LoanAmount          3.583062\n",
            "Loan_Amount_Term    2.280130\n",
            "Credit_History      8.143322\n",
            "dtype: float64\n"
          ]
        }
      ]
    },
    {
      "cell_type": "code",
      "source": [
        "# Function to detect outliers (using IQR for numerical columns)\n",
        "def detect_outliers(df):\n",
        "    outliers = {}\n",
        "    for column in df.select_dtypes(include=['float64', 'int64']).columns:\n",
        "        Q1 = df[column].quantile(0.25)\n",
        "        Q3 = df[column].quantile(0.75)\n",
        "        IQR = Q3 - Q1\n",
        "        outliers_count = ((df[column] < (Q1 - 1.5 * IQR)) | (df[column] > (Q3 + 1.5 * IQR))).sum()\n",
        "        outliers[column] = outliers_count\n",
        "    return outliers\n",
        "\n",
        "# Check for outliers in each dataset\n",
        "for i, dataset in enumerate([df1, df2, df3], start=1):\n",
        "    outliers = detect_outliers(dataset)\n",
        "    print(f\"\\nDataset {i} - Outliers:\\n{outliers}\")\n"
      ],
      "metadata": {
        "colab": {
          "base_uri": "https://localhost:8080/",
          "height": 0
        },
        "id": "SUvYejzdFwFN",
        "outputId": "42aa625d-7268-4833-fa95-4e2487ecdcd8"
      },
      "execution_count": 52,
      "outputs": [
        {
          "output_type": "stream",
          "name": "stdout",
          "text": [
            "\n",
            "Dataset 1 - Outliers:\n",
            "{'Applicant_ID': 0, 'Annual_Income': 0, 'Applicant_Age': 0, 'Work_Experience': 0, 'Years_in_Current_Employment': 0, 'Years_in_Current_Residence': 0, 'Loan_Default_Risk': 12997}\n",
            "\n",
            "Dataset 2 - Outliers:\n",
            "{'loan_id': 0, ' no_of_dependents': 0, ' income_annum': 0, ' loan_amount': 0, ' loan_term': 0, ' cibil_score': 0, ' residential_assets_value': 52, ' commercial_assets_value': 37, ' luxury_assets_value': 0, ' bank_asset_value': 5}\n",
            "\n",
            "Dataset 3 - Outliers:\n",
            "{'ApplicantIncome': 50, 'CoapplicantIncome': 18, 'LoanAmount': 39, 'Loan_Amount_Term': 88, 'Credit_History': 89}\n"
          ]
        }
      ]
    },
    {
      "cell_type": "code",
      "source": [
        "# Check the number of rows and columns in each dataset\n",
        "for i, dataset in enumerate([df1, df2, df3], start=1):\n",
        "    print(f\"\\nDataset {i} - Size: {dataset.shape[0]} rows, {dataset.shape[1]} columns\")"
      ],
      "metadata": {
        "colab": {
          "base_uri": "https://localhost:8080/",
          "height": 0
        },
        "id": "JAvm-Ln9JlEW",
        "outputId": "5210931b-a72e-417c-a6b7-a1b035bfe353"
      },
      "execution_count": 53,
      "outputs": [
        {
          "output_type": "stream",
          "name": "stdout",
          "text": [
            "\n",
            "Dataset 1 - Size: 100000 rows, 13 columns\n",
            "\n",
            "Dataset 2 - Size: 4269 rows, 13 columns\n",
            "\n",
            "Dataset 3 - Size: 614 rows, 13 columns\n"
          ]
        }
      ]
    },
    {
      "cell_type": "code",
      "source": [
        "# print(\"Columns in df2:\", df2.columns.tolist())\n",
        "# print(\"Unique columns in df2:\", df2.columns.unique())\n",
        "\n",
        "# print(\"First few rows of df2:\")\n",
        "# print(df2.head())"
      ],
      "metadata": {
        "id": "3ZihaPC9PPRk"
      },
      "execution_count": 54,
      "outputs": []
    },
    {
      "cell_type": "code",
      "source": [
        "# if 'loan_status' in df2.columns:\n",
        "#     target_counts_df2 = df2['loan_status'].value_counts(normalize=True) * 100\n",
        "#     print(\"\\nDataset 2 - Class Balance:\")\n",
        "#     print(target_counts_df2)\n",
        "# else:\n",
        "#     print(\"Column 'loan_status' not found in df2.\")"
      ],
      "metadata": {
        "id": "-ujXBzhiPha0"
      },
      "execution_count": 55,
      "outputs": []
    },
    {
      "cell_type": "code",
      "source": [
        "# if 'loan_status' in df2.columns:\n",
        "#     df2.rename(columns={'loan_status': 'loan_status'}, inplace=True)\n",
        "#     print(\"Renamed column 'loan_status' to 'loan_status' in df2.\")\n",
        "# else:\n",
        "#     print(\"'loan_status' column not found in df2. No renaming performed.\")"
      ],
      "metadata": {
        "colab": {
          "base_uri": "https://localhost:8080/",
          "height": 0
        },
        "id": "HiuLbK19OWuH",
        "outputId": "623671fe-c469-4a1b-a931-26691c818575"
      },
      "execution_count": 57,
      "outputs": [
        {
          "output_type": "stream",
          "name": "stdout",
          "text": [
            "'loan_status' column not found in df2. No renaming performed.\n"
          ]
        }
      ]
    },
    {
      "cell_type": "code",
      "source": [
        "# remove any leading or trailing whitespace from the column names\n",
        "df2.columns = df2.columns.str.strip()"
      ],
      "metadata": {
        "id": "FbiTEu10P77B"
      },
      "execution_count": 59,
      "outputs": []
    },
    {
      "cell_type": "code",
      "source": [
        "# Check class balance in each dataset\n",
        "# print(df1.columns)\n",
        "# print(df2.columns)\n",
        "# print(df3.columns)\n",
        "\n",
        "# Class balance for df1\n",
        "target_counts_df1 = df1['Loan_Default_Risk'].value_counts(normalize=True) * 100\n",
        "print(\"Dataset 1 - Class Balance:\")\n",
        "print(target_counts_df1)\n",
        "\n",
        "# Class balance for df2\n",
        "# Check if 'loan_status' column exists, if not, try other possible names\n",
        "if 'loan_status' in df2.columns:\n",
        "    target_counts_df2 = df2['loan_status'].value_counts(normalize=True) * 100\n",
        "else:\n",
        "    # Try variations like 'Loan_Status' or 'loanStatus'\n",
        "    possible_names = ['Loan_Status', 'loanStatus', 'Loan Status', 'loan_status']\n",
        "    for name in possible_names:\n",
        "        if name in df2.columns:\n",
        "            target_counts_df2 = df2[name].value_counts(normalize=True) * 100\n",
        "            print(f\"Using column name '{name}' for df2 class balance.\")\n",
        "            break\n",
        "    else:\n",
        "        raise KeyError(f\"None of the possible column names found in df2: {possible_names}\")\n",
        "\n",
        "print(\"\\nDataset 2 - Class Balance:\")\n",
        "print(target_counts_df2)\n",
        "\n",
        "# Class balance for df3\n",
        "target_counts_df3 = df3['Loan_Status'].value_counts(normalize=True) * 100\n",
        "print(\"\\nDataset 3 - Class Balance:\")\n",
        "print(target_counts_df3)"
      ],
      "metadata": {
        "colab": {
          "base_uri": "https://localhost:8080/",
          "height": 0
        },
        "id": "y3XP8nenKCUX",
        "outputId": "4e930856-3ece-4a12-d4af-ca474e314479"
      },
      "execution_count": 46,
      "outputs": [
        {
          "output_type": "stream",
          "name": "stdout",
          "text": [
            "Dataset 1 - Class Balance:\n",
            "Loan_Default_Risk\n",
            "0    87.003\n",
            "1    12.997\n",
            "Name: proportion, dtype: float64\n",
            "\n",
            "Dataset 2 - Class Balance:\n",
            "loan_status\n",
            "Approved    62.215976\n",
            "Rejected    37.784024\n",
            "Name: proportion, dtype: float64\n",
            "\n",
            "Dataset 3 - Class Balance:\n",
            "Loan_Status\n",
            "Y    68.729642\n",
            "N    31.270358\n",
            "Name: proportion, dtype: float64\n"
          ]
        }
      ]
    },
    {
      "cell_type": "code",
      "source": [
        "# Display columns and data types for each dataset\n",
        "for i, dataset in enumerate([df1, df2, df3], start=1):\n",
        "    print(f\"\\nDataset {i} - Columns and Data Types:\\n{dataset.dtypes}\")\n"
      ],
      "metadata": {
        "colab": {
          "base_uri": "https://localhost:8080/",
          "height": 0
        },
        "id": "m0rccaaaKbz2",
        "outputId": "0bc2d24d-e84e-4e3d-fdb8-c8d77745e679"
      },
      "execution_count": 61,
      "outputs": [
        {
          "output_type": "stream",
          "name": "stdout",
          "text": [
            "\n",
            "Dataset 1 - Columns and Data Types:\n",
            "Applicant_ID                    int64\n",
            "Annual_Income                   int64\n",
            "Applicant_Age                   int64\n",
            "Work_Experience                 int64\n",
            "Marital_Status                 object\n",
            "House_Ownership                object\n",
            "Vehicle_Ownership(car)         object\n",
            "Occupation                     object\n",
            "Residence_City                 object\n",
            "Residence_State                object\n",
            "Years_in_Current_Employment     int64\n",
            "Years_in_Current_Residence      int64\n",
            "Loan_Default_Risk               int64\n",
            "dtype: object\n",
            "\n",
            "Dataset 2 - Columns and Data Types:\n",
            "loan_id                      int64\n",
            "no_of_dependents             int64\n",
            "education                   object\n",
            "self_employed               object\n",
            "income_annum                 int64\n",
            "loan_amount                  int64\n",
            "loan_term                    int64\n",
            "cibil_score                  int64\n",
            "residential_assets_value     int64\n",
            "commercial_assets_value      int64\n",
            "luxury_assets_value          int64\n",
            "bank_asset_value             int64\n",
            "loan_status                 object\n",
            "dtype: object\n",
            "\n",
            "Dataset 3 - Columns and Data Types:\n",
            "Loan_ID               object\n",
            "Gender                object\n",
            "Married               object\n",
            "Dependents            object\n",
            "Education             object\n",
            "Self_Employed         object\n",
            "ApplicantIncome        int64\n",
            "CoapplicantIncome    float64\n",
            "LoanAmount           float64\n",
            "Loan_Amount_Term     float64\n",
            "Credit_History       float64\n",
            "Property_Area         object\n",
            "Loan_Status           object\n",
            "dtype: object\n"
          ]
        }
      ]
    },
    {
      "cell_type": "code",
      "source": [
        "def compare_datasets(datasets, target_column):\n",
        "    for i, dataset in enumerate(datasets, start=1):\n",
        "        print(f\"\\n---- Dataset {i} ----\")\n",
        "\n",
        "        # Size and Missing Values\n",
        "        print(f\"Size: {dataset.shape[0]} rows, {dataset.shape[1]} columns\")\n",
        "        missing_values = dataset.isnull().sum()\n",
        "        print(\"Missing Values:\\n\", missing_values[missing_values > 0])\n",
        "\n",
        "        # Class Balance\n",
        "        if target_column in dataset.columns:\n",
        "            target_counts = dataset[target_column].value_counts(normalize=True) * 100\n",
        "            print(f\"Class Balance:\\n{target_counts}\")\n",
        "\n",
        "        # Outliers\n",
        "        outliers = detect_outliers(dataset)\n",
        "        print(\"Outliers:\\n\", {k: v for k, v in outliers.items() if v > 0})\n",
        "\n",
        "        # Feature Overview\n",
        "        print(\"Columns and Data Types:\\n\", dataset.dtypes)\n",
        "        print(\"Basic Statistics:\\n\", dataset.describe(include='all'))\n",
        "\n",
        "# Call the function with the datasets and target column\n",
        "compare_datasets([df1, df2, df3], target_column='Loan_Status')"
      ],
      "metadata": {
        "colab": {
          "base_uri": "https://localhost:8080/",
          "height": 0
        },
        "id": "zs_Ci055K4ag",
        "outputId": "aa3bc308-f219-4cd2-b77c-08139c63b822"
      },
      "execution_count": 20,
      "outputs": [
        {
          "output_type": "stream",
          "name": "stdout",
          "text": [
            "\n",
            "---- Dataset 1 ----\n",
            "Size: 100000 rows, 13 columns\n",
            "Missing Values:\n",
            " Series([], dtype: int64)\n",
            "Outliers:\n",
            " {'Loan_Default_Risk': 12997}\n",
            "Columns and Data Types:\n",
            " Applicant_ID                    int64\n",
            "Annual_Income                   int64\n",
            "Applicant_Age                   int64\n",
            "Work_Experience                 int64\n",
            "Marital_Status                 object\n",
            "House_Ownership                object\n",
            "Vehicle_Ownership(car)         object\n",
            "Occupation                     object\n",
            "Residence_City                 object\n",
            "Residence_State                object\n",
            "Years_in_Current_Employment     int64\n",
            "Years_in_Current_Residence      int64\n",
            "Loan_Default_Risk               int64\n",
            "dtype: object\n",
            "Basic Statistics:\n",
            "          Applicant_ID  Annual_Income  Applicant_Age  Work_Experience  \\\n",
            "count   100000.000000   1.000000e+05  100000.000000    100000.000000   \n",
            "unique            NaN            NaN            NaN              NaN   \n",
            "top               NaN            NaN            NaN              NaN   \n",
            "freq              NaN            NaN            NaN              NaN   \n",
            "mean     50000.500000   5.001617e+06      49.995400        10.110750   \n",
            "std      28867.657797   2.876394e+06      17.056051         5.996007   \n",
            "min          1.000000   1.031000e+04      21.000000         0.000000   \n",
            "25%      25000.750000   2.507092e+06      35.000000         5.000000   \n",
            "50%      50000.500000   5.004938e+06      50.000000        10.000000   \n",
            "75%      75000.250000   7.477502e+06      65.000000        15.000000   \n",
            "max     100000.000000   9.999180e+06      79.000000        20.000000   \n",
            "\n",
            "       Marital_Status House_Ownership Vehicle_Ownership(car) Occupation  \\\n",
            "count          100000          100000                 100000     100000   \n",
            "unique              2               3                      2         51   \n",
            "top            single          rented                     no  Physician   \n",
            "freq            89763           92088                  69665       2426   \n",
            "mean              NaN             NaN                    NaN        NaN   \n",
            "std               NaN             NaN                    NaN        NaN   \n",
            "min               NaN             NaN                    NaN        NaN   \n",
            "25%               NaN             NaN                    NaN        NaN   \n",
            "50%               NaN             NaN                    NaN        NaN   \n",
            "75%               NaN             NaN                    NaN        NaN   \n",
            "max               NaN             NaN                    NaN        NaN   \n",
            "\n",
            "       Residence_City Residence_State  Years_in_Current_Employment  \\\n",
            "count          100000          100000                100000.000000   \n",
            "unique            317              29                          NaN   \n",
            "top     Vijayanagaram   Uttar_Pradesh                          NaN   \n",
            "freq              519           11255                          NaN   \n",
            "mean              NaN             NaN                     6.342990   \n",
            "std               NaN             NaN                     3.644942   \n",
            "min               NaN             NaN                     0.000000   \n",
            "25%               NaN             NaN                     4.000000   \n",
            "50%               NaN             NaN                     6.000000   \n",
            "75%               NaN             NaN                     9.000000   \n",
            "max               NaN             NaN                    14.000000   \n",
            "\n",
            "        Years_in_Current_Residence  Loan_Default_Risk  \n",
            "count                100000.000000      100000.000000  \n",
            "unique                         NaN                NaN  \n",
            "top                            NaN                NaN  \n",
            "freq                           NaN                NaN  \n",
            "mean                     11.996020           0.129970  \n",
            "std                       1.396826           0.336272  \n",
            "min                      10.000000           0.000000  \n",
            "25%                      11.000000           0.000000  \n",
            "50%                      12.000000           0.000000  \n",
            "75%                      13.000000           0.000000  \n",
            "max                      14.000000           1.000000  \n",
            "\n",
            "---- Dataset 2 ----\n",
            "Size: 4269 rows, 13 columns\n",
            "Missing Values:\n",
            " Series([], dtype: int64)\n",
            "Outliers:\n",
            " {' residential_assets_value': 52, ' commercial_assets_value': 37, ' bank_asset_value': 5}\n",
            "Columns and Data Types:\n",
            " loan_id                       int64\n",
            " no_of_dependents             int64\n",
            " education                   object\n",
            " self_employed               object\n",
            " income_annum                 int64\n",
            " loan_amount                  int64\n",
            " loan_term                    int64\n",
            " cibil_score                  int64\n",
            " residential_assets_value     int64\n",
            " commercial_assets_value      int64\n",
            " luxury_assets_value          int64\n",
            " bank_asset_value             int64\n",
            " loan_status                 object\n",
            "dtype: object\n",
            "Basic Statistics:\n",
            "             loan_id   no_of_dependents  education  self_employed  \\\n",
            "count   4269.000000        4269.000000       4269           4269   \n",
            "unique          NaN                NaN          2              2   \n",
            "top             NaN                NaN   Graduate            Yes   \n",
            "freq            NaN                NaN       2144           2150   \n",
            "mean    2135.000000           2.498712        NaN            NaN   \n",
            "std     1232.498479           1.695910        NaN            NaN   \n",
            "min        1.000000           0.000000        NaN            NaN   \n",
            "25%     1068.000000           1.000000        NaN            NaN   \n",
            "50%     2135.000000           3.000000        NaN            NaN   \n",
            "75%     3202.000000           4.000000        NaN            NaN   \n",
            "max     4269.000000           5.000000        NaN            NaN   \n",
            "\n",
            "         income_annum   loan_amount    loan_term   cibil_score  \\\n",
            "count    4.269000e+03  4.269000e+03  4269.000000   4269.000000   \n",
            "unique            NaN           NaN          NaN           NaN   \n",
            "top               NaN           NaN          NaN           NaN   \n",
            "freq              NaN           NaN          NaN           NaN   \n",
            "mean     5.059124e+06  1.513345e+07    10.900445    599.936051   \n",
            "std      2.806840e+06  9.043363e+06     5.709187    172.430401   \n",
            "min      2.000000e+05  3.000000e+05     2.000000    300.000000   \n",
            "25%      2.700000e+06  7.700000e+06     6.000000    453.000000   \n",
            "50%      5.100000e+06  1.450000e+07    10.000000    600.000000   \n",
            "75%      7.500000e+06  2.150000e+07    16.000000    748.000000   \n",
            "max      9.900000e+06  3.950000e+07    20.000000    900.000000   \n",
            "\n",
            "         residential_assets_value   commercial_assets_value  \\\n",
            "count                4.269000e+03              4.269000e+03   \n",
            "unique                        NaN                       NaN   \n",
            "top                           NaN                       NaN   \n",
            "freq                          NaN                       NaN   \n",
            "mean                 7.472617e+06              4.973155e+06   \n",
            "std                  6.503637e+06              4.388966e+06   \n",
            "min                 -1.000000e+05              0.000000e+00   \n",
            "25%                  2.200000e+06              1.300000e+06   \n",
            "50%                  5.600000e+06              3.700000e+06   \n",
            "75%                  1.130000e+07              7.600000e+06   \n",
            "max                  2.910000e+07              1.940000e+07   \n",
            "\n",
            "         luxury_assets_value   bank_asset_value  loan_status  \n",
            "count           4.269000e+03       4.269000e+03         4269  \n",
            "unique                   NaN                NaN            2  \n",
            "top                      NaN                NaN     Approved  \n",
            "freq                     NaN                NaN         2656  \n",
            "mean            1.512631e+07       4.976692e+06          NaN  \n",
            "std             9.103754e+06       3.250185e+06          NaN  \n",
            "min             3.000000e+05       0.000000e+00          NaN  \n",
            "25%             7.500000e+06       2.300000e+06          NaN  \n",
            "50%             1.460000e+07       4.600000e+06          NaN  \n",
            "75%             2.170000e+07       7.100000e+06          NaN  \n",
            "max             3.920000e+07       1.470000e+07          NaN  \n",
            "\n",
            "---- Dataset 3 ----\n",
            "Size: 614 rows, 13 columns\n",
            "Missing Values:\n",
            " Gender              13\n",
            "Married              3\n",
            "Dependents          15\n",
            "Self_Employed       32\n",
            "LoanAmount          22\n",
            "Loan_Amount_Term    14\n",
            "Credit_History      50\n",
            "dtype: int64\n",
            "Class Balance:\n",
            "Loan_Status\n",
            "Y    68.729642\n",
            "N    31.270358\n",
            "Name: proportion, dtype: float64\n",
            "Outliers:\n",
            " {'ApplicantIncome': 50, 'CoapplicantIncome': 18, 'LoanAmount': 39, 'Loan_Amount_Term': 88, 'Credit_History': 89}\n",
            "Columns and Data Types:\n",
            " Loan_ID               object\n",
            "Gender                object\n",
            "Married               object\n",
            "Dependents            object\n",
            "Education             object\n",
            "Self_Employed         object\n",
            "ApplicantIncome        int64\n",
            "CoapplicantIncome    float64\n",
            "LoanAmount           float64\n",
            "Loan_Amount_Term     float64\n",
            "Credit_History       float64\n",
            "Property_Area         object\n",
            "Loan_Status           object\n",
            "dtype: object\n",
            "Basic Statistics:\n",
            "          Loan_ID Gender Married Dependents Education Self_Employed  \\\n",
            "count        614    601     611        599       614           582   \n",
            "unique       614      2       2          4         2             2   \n",
            "top     LP001002   Male     Yes          0  Graduate            No   \n",
            "freq           1    489     398        345       480           500   \n",
            "mean         NaN    NaN     NaN        NaN       NaN           NaN   \n",
            "std          NaN    NaN     NaN        NaN       NaN           NaN   \n",
            "min          NaN    NaN     NaN        NaN       NaN           NaN   \n",
            "25%          NaN    NaN     NaN        NaN       NaN           NaN   \n",
            "50%          NaN    NaN     NaN        NaN       NaN           NaN   \n",
            "75%          NaN    NaN     NaN        NaN       NaN           NaN   \n",
            "max          NaN    NaN     NaN        NaN       NaN           NaN   \n",
            "\n",
            "        ApplicantIncome  CoapplicantIncome  LoanAmount  Loan_Amount_Term  \\\n",
            "count        614.000000         614.000000  592.000000         600.00000   \n",
            "unique              NaN                NaN         NaN               NaN   \n",
            "top                 NaN                NaN         NaN               NaN   \n",
            "freq                NaN                NaN         NaN               NaN   \n",
            "mean        5403.459283        1621.245798  146.412162         342.00000   \n",
            "std         6109.041673        2926.248369   85.587325          65.12041   \n",
            "min          150.000000           0.000000    9.000000          12.00000   \n",
            "25%         2877.500000           0.000000  100.000000         360.00000   \n",
            "50%         3812.500000        1188.500000  128.000000         360.00000   \n",
            "75%         5795.000000        2297.250000  168.000000         360.00000   \n",
            "max        81000.000000       41667.000000  700.000000         480.00000   \n",
            "\n",
            "        Credit_History Property_Area Loan_Status  \n",
            "count       564.000000           614         614  \n",
            "unique             NaN             3           2  \n",
            "top                NaN     Semiurban           Y  \n",
            "freq               NaN           233         422  \n",
            "mean          0.842199           NaN         NaN  \n",
            "std           0.364878           NaN         NaN  \n",
            "min           0.000000           NaN         NaN  \n",
            "25%           1.000000           NaN         NaN  \n",
            "50%           1.000000           NaN         NaN  \n",
            "75%           1.000000           NaN         NaN  \n",
            "max           1.000000           NaN         NaN  \n"
          ]
        }
      ]
    },
    {
      "cell_type": "code",
      "source": [
        "# Display basic statistics for each dataset\n",
        "for i, dataset in enumerate([df1, df2, df3], start=1):\n",
        "    print(f\"\\nDataset {i} - Basic Statistics:\\n{dataset.describe(include='all')}\")\n"
      ],
      "metadata": {
        "colab": {
          "base_uri": "https://localhost:8080/",
          "height": 0
        },
        "id": "7w3tUMeYKpmx",
        "outputId": "1f9b54b0-7c92-4696-89a7-62bc57d2185b"
      },
      "execution_count": 19,
      "outputs": [
        {
          "output_type": "stream",
          "name": "stdout",
          "text": [
            "\n",
            "Dataset 1 - Basic Statistics:\n",
            "         Applicant_ID  Annual_Income  Applicant_Age  Work_Experience  \\\n",
            "count   100000.000000   1.000000e+05  100000.000000    100000.000000   \n",
            "unique            NaN            NaN            NaN              NaN   \n",
            "top               NaN            NaN            NaN              NaN   \n",
            "freq              NaN            NaN            NaN              NaN   \n",
            "mean     50000.500000   5.001617e+06      49.995400        10.110750   \n",
            "std      28867.657797   2.876394e+06      17.056051         5.996007   \n",
            "min          1.000000   1.031000e+04      21.000000         0.000000   \n",
            "25%      25000.750000   2.507092e+06      35.000000         5.000000   \n",
            "50%      50000.500000   5.004938e+06      50.000000        10.000000   \n",
            "75%      75000.250000   7.477502e+06      65.000000        15.000000   \n",
            "max     100000.000000   9.999180e+06      79.000000        20.000000   \n",
            "\n",
            "       Marital_Status House_Ownership Vehicle_Ownership(car) Occupation  \\\n",
            "count          100000          100000                 100000     100000   \n",
            "unique              2               3                      2         51   \n",
            "top            single          rented                     no  Physician   \n",
            "freq            89763           92088                  69665       2426   \n",
            "mean              NaN             NaN                    NaN        NaN   \n",
            "std               NaN             NaN                    NaN        NaN   \n",
            "min               NaN             NaN                    NaN        NaN   \n",
            "25%               NaN             NaN                    NaN        NaN   \n",
            "50%               NaN             NaN                    NaN        NaN   \n",
            "75%               NaN             NaN                    NaN        NaN   \n",
            "max               NaN             NaN                    NaN        NaN   \n",
            "\n",
            "       Residence_City Residence_State  Years_in_Current_Employment  \\\n",
            "count          100000          100000                100000.000000   \n",
            "unique            317              29                          NaN   \n",
            "top     Vijayanagaram   Uttar_Pradesh                          NaN   \n",
            "freq              519           11255                          NaN   \n",
            "mean              NaN             NaN                     6.342990   \n",
            "std               NaN             NaN                     3.644942   \n",
            "min               NaN             NaN                     0.000000   \n",
            "25%               NaN             NaN                     4.000000   \n",
            "50%               NaN             NaN                     6.000000   \n",
            "75%               NaN             NaN                     9.000000   \n",
            "max               NaN             NaN                    14.000000   \n",
            "\n",
            "        Years_in_Current_Residence  Loan_Default_Risk  \n",
            "count                100000.000000      100000.000000  \n",
            "unique                         NaN                NaN  \n",
            "top                            NaN                NaN  \n",
            "freq                           NaN                NaN  \n",
            "mean                     11.996020           0.129970  \n",
            "std                       1.396826           0.336272  \n",
            "min                      10.000000           0.000000  \n",
            "25%                      11.000000           0.000000  \n",
            "50%                      12.000000           0.000000  \n",
            "75%                      13.000000           0.000000  \n",
            "max                      14.000000           1.000000  \n",
            "\n",
            "Dataset 2 - Basic Statistics:\n",
            "            loan_id   no_of_dependents  education  self_employed  \\\n",
            "count   4269.000000        4269.000000       4269           4269   \n",
            "unique          NaN                NaN          2              2   \n",
            "top             NaN                NaN   Graduate            Yes   \n",
            "freq            NaN                NaN       2144           2150   \n",
            "mean    2135.000000           2.498712        NaN            NaN   \n",
            "std     1232.498479           1.695910        NaN            NaN   \n",
            "min        1.000000           0.000000        NaN            NaN   \n",
            "25%     1068.000000           1.000000        NaN            NaN   \n",
            "50%     2135.000000           3.000000        NaN            NaN   \n",
            "75%     3202.000000           4.000000        NaN            NaN   \n",
            "max     4269.000000           5.000000        NaN            NaN   \n",
            "\n",
            "         income_annum   loan_amount    loan_term   cibil_score  \\\n",
            "count    4.269000e+03  4.269000e+03  4269.000000   4269.000000   \n",
            "unique            NaN           NaN          NaN           NaN   \n",
            "top               NaN           NaN          NaN           NaN   \n",
            "freq              NaN           NaN          NaN           NaN   \n",
            "mean     5.059124e+06  1.513345e+07    10.900445    599.936051   \n",
            "std      2.806840e+06  9.043363e+06     5.709187    172.430401   \n",
            "min      2.000000e+05  3.000000e+05     2.000000    300.000000   \n",
            "25%      2.700000e+06  7.700000e+06     6.000000    453.000000   \n",
            "50%      5.100000e+06  1.450000e+07    10.000000    600.000000   \n",
            "75%      7.500000e+06  2.150000e+07    16.000000    748.000000   \n",
            "max      9.900000e+06  3.950000e+07    20.000000    900.000000   \n",
            "\n",
            "         residential_assets_value   commercial_assets_value  \\\n",
            "count                4.269000e+03              4.269000e+03   \n",
            "unique                        NaN                       NaN   \n",
            "top                           NaN                       NaN   \n",
            "freq                          NaN                       NaN   \n",
            "mean                 7.472617e+06              4.973155e+06   \n",
            "std                  6.503637e+06              4.388966e+06   \n",
            "min                 -1.000000e+05              0.000000e+00   \n",
            "25%                  2.200000e+06              1.300000e+06   \n",
            "50%                  5.600000e+06              3.700000e+06   \n",
            "75%                  1.130000e+07              7.600000e+06   \n",
            "max                  2.910000e+07              1.940000e+07   \n",
            "\n",
            "         luxury_assets_value   bank_asset_value  loan_status  \n",
            "count           4.269000e+03       4.269000e+03         4269  \n",
            "unique                   NaN                NaN            2  \n",
            "top                      NaN                NaN     Approved  \n",
            "freq                     NaN                NaN         2656  \n",
            "mean            1.512631e+07       4.976692e+06          NaN  \n",
            "std             9.103754e+06       3.250185e+06          NaN  \n",
            "min             3.000000e+05       0.000000e+00          NaN  \n",
            "25%             7.500000e+06       2.300000e+06          NaN  \n",
            "50%             1.460000e+07       4.600000e+06          NaN  \n",
            "75%             2.170000e+07       7.100000e+06          NaN  \n",
            "max             3.920000e+07       1.470000e+07          NaN  \n",
            "\n",
            "Dataset 3 - Basic Statistics:\n",
            "         Loan_ID Gender Married Dependents Education Self_Employed  \\\n",
            "count        614    601     611        599       614           582   \n",
            "unique       614      2       2          4         2             2   \n",
            "top     LP001002   Male     Yes          0  Graduate            No   \n",
            "freq           1    489     398        345       480           500   \n",
            "mean         NaN    NaN     NaN        NaN       NaN           NaN   \n",
            "std          NaN    NaN     NaN        NaN       NaN           NaN   \n",
            "min          NaN    NaN     NaN        NaN       NaN           NaN   \n",
            "25%          NaN    NaN     NaN        NaN       NaN           NaN   \n",
            "50%          NaN    NaN     NaN        NaN       NaN           NaN   \n",
            "75%          NaN    NaN     NaN        NaN       NaN           NaN   \n",
            "max          NaN    NaN     NaN        NaN       NaN           NaN   \n",
            "\n",
            "        ApplicantIncome  CoapplicantIncome  LoanAmount  Loan_Amount_Term  \\\n",
            "count        614.000000         614.000000  592.000000         600.00000   \n",
            "unique              NaN                NaN         NaN               NaN   \n",
            "top                 NaN                NaN         NaN               NaN   \n",
            "freq                NaN                NaN         NaN               NaN   \n",
            "mean        5403.459283        1621.245798  146.412162         342.00000   \n",
            "std         6109.041673        2926.248369   85.587325          65.12041   \n",
            "min          150.000000           0.000000    9.000000          12.00000   \n",
            "25%         2877.500000           0.000000  100.000000         360.00000   \n",
            "50%         3812.500000        1188.500000  128.000000         360.00000   \n",
            "75%         5795.000000        2297.250000  168.000000         360.00000   \n",
            "max        81000.000000       41667.000000  700.000000         480.00000   \n",
            "\n",
            "        Credit_History Property_Area Loan_Status  \n",
            "count       564.000000           614         614  \n",
            "unique             NaN             3           2  \n",
            "top                NaN     Semiurban           Y  \n",
            "freq               NaN           233         422  \n",
            "mean          0.842199           NaN         NaN  \n",
            "std           0.364878           NaN         NaN  \n",
            "min           0.000000           NaN         NaN  \n",
            "25%           1.000000           NaN         NaN  \n",
            "50%           1.000000           NaN         NaN  \n",
            "75%           1.000000           NaN         NaN  \n",
            "max           1.000000           NaN         NaN  \n"
          ]
        }
      ]
    },
    {
      "cell_type": "markdown",
      "source": [
        "# New Section"
      ],
      "metadata": {
        "id": "SM4xF5_L85mn"
      }
    }
  ]
}